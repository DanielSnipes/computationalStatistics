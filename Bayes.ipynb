{
 "cells": [
  {
   "cell_type": "code",
   "execution_count": 2,
   "metadata": {
    "collapsed": true
   },
   "outputs": [],
   "source": [
    "from collections import Counter\n",
    "import numpy.random as r\n",
    "import seaborn as sns\n",
    "import numpy as np\n",
    "from __future__ import division\n",
    "%matplotlib inline\n",
    "from scipy import stats"
   ]
  },
  {
   "cell_type": "markdown",
   "metadata": {
    "collapsed": true
   },
   "source": [
    "This section will be an introduction to the principles of Bayesian inference. Will cover Bayesian goals and terminology. Will introduce posterior inference via conjugate priors with a couple simple examples. Will stop short of MCMC methods. "
   ]
  },
  {
   "cell_type": "markdown",
   "metadata": {
    "collapsed": true
   },
   "source": [
    "*Notes:*\n",
    "- Could probably get some good use out of something like fantasy football point-per-player-per-game data. Could do conjugate priors, poisson-gamma distribution, unsupervised clustering..."
   ]
  },
  {
   "cell_type": "markdown",
   "metadata": {
    "collapsed": true
   },
   "source": [
    "** A Trite Example **\n",
    "\n",
    "Let's talk Fantasy Football. Apologies if you hate sports, but some of the following metaphors and example problems will get us pretty far, so please bear with me."
   ]
  },
  {
   "cell_type": "markdown",
   "metadata": {},
   "source": [
    "On a Fantasy Football team, each of my players scores points (in accordance with rules for their position) for the game they play in real life each week. As an example let's look at quarterback Jameis Winston. After several weeks into the season, here's the points he got me:"
   ]
  },
  {
   "cell_type": "code",
   "execution_count": 1,
   "metadata": {
    "collapsed": true
   },
   "outputs": [],
   "source": [
    "Jameis_Winston = {\"Week 1\": 13, \"Week 2\": 18, \"Week 3\": 12, \"Week 4\": 12, \"Week 5\": 14, \"Week 6\": 0}"
   ]
  },
  {
   "cell_type": "markdown",
   "metadata": {},
   "source": [
    "So we see that several weeks into the season, Winston seems like a pretty reliable source of about a dozen or so points. Sometimes he scores more (like when he got 18) and sometimes he scores less (like when he was on a BYE in Week 6 and got 0, but I didn't notice because I'm terrible at Fantasy Football). Our goal might be to *predict* how many points Winston will get in the next game. Or at least to have a compact quantification of how he's likely to do. He probably won't get 0 again, and he probably won't get 50, so how might we quantify all this? "
   ]
  },
  {
   "cell_type": "markdown",
   "metadata": {},
   "source": [
    "Since we've seen a few weeks of data, surely we can say something about this problem right? We're doing better than nothing. In the past we seen him acheive scores of 13, 18, 12, and 14, so a good starting point is to guess that those are somewhat likely in the future. What about 11 points? We've never seen that in the past, so does that have exactly zero chance of happening in the future? "
   ]
  },
  {
   "cell_type": "markdown",
   "metadata": {},
   "source": [
    "A good place to start is to devise a *generative model* of his scoring - to come up with a *probability distribution* that captures the variability in a reasonable way. We've talked about Binomial distributions and Normal distributions, but those aren't quite right here because of how they're defined and how the rules of my league go. In my leaguge, a player can only get an integer number of points. So it's certainly not a coin-flip process, but it's not really a drawn from a Normal distribution either. \n",
    "\n",
    "The distribution we're looking for is called the Poisson distribution. This distribution is defined only on the integers and is typically used to model count-data. For example, how many traffic tickets will I get this year? How many times will you sneeze tomorrow? How many points with Jameis Winston get this week? These are all count-data that can take on only whole-number values, and are appropriate for the Poisson distribution."
   ]
  },
  {
   "cell_type": "markdown",
   "metadata": {},
   "source": [
    "This is the Poisson distribution: \n",
    "\n",
    "$p(k|\\lambda) = \\frac{\\lambda ^k}{k!} e^{- \\lambda}$\n",
    "\n",
    "To break that down a little bit - the distribution quantifies the probability of seeing $k$ counts, given a particular value of $\\lambda$. The parameter $\\lambda$ is called the *rate* parameter and quantifies the baseline probability of an event happening. In fact, recall the Binomial distribution discussed earlier. In that case, we asked what is the probability of observing $k$ Heads coin tosses if we do a total of $N$ tosses and have a probability of Heads is $\\theta$. Well, the Poisson distribution is simply a limiting approximation of that process as $N$ goes to infinity (so we do an infinite number of coin tosses infinitely often). The Poisson rate parameter $\\lambda$ is very closely tied to the Binomial probability parameter. \n",
    "\n",
    "Below, I'm visualizing the probability density of a Poisson distribution for two different values of $\\lambda$. As you can see, as $\\lambda$ increases, our expected counts tend to increase."
   ]
  },
  {
   "cell_type": "code",
   "execution_count": 6,
   "metadata": {
    "collapsed": false
   },
   "outputs": [
    {
     "data": {
      "text/plain": [
       "<matplotlib.text.Text at 0xd0d8c10>"
      ]
     },
     "execution_count": 6,
     "metadata": {},
     "output_type": "execute_result"
    },
    {
     "data": {
      "image/png": "[encoded data removed]",
      "text/plain": [
       "<matplotlib.figure.Figure at 0xd0378d0>"
      ]
     },
     "metadata": {},
     "output_type": "display_data"
    }
   ],
   "source": [
    "import matplotlib.pyplot as plt\n",
    "sns.set(style=\"white\", context=\"talk\")\n",
    "rs = np.random.RandomState(7)\n",
    "\n",
    "\n",
    "# Set up the matplotlib figure\n",
    "f, (ax1, ax2) = plt.subplots(2, 1, figsize=(8, 4), sharex=True)\n",
    "\n",
    "# Generate some sequential data\n",
    "x = np.array(range(25))\n",
    "poiss_1 = stats.poisson(2)\n",
    "y1 = poiss_1.pmf(x)\n",
    "sns.barplot(x, y1, palette=\"BuGn_d\", ax=ax1)\n",
    "ax1.set_ylabel(\"Probability\")\n",
    "ax1.set_title(\"Lambda = 2\")\n",
    "\n",
    "# Center the data to make it diverging\n",
    "poiss_2 = stats.poisson(15)\n",
    "y2 = poiss_2.pmf(x)\n",
    "sns.barplot(x, y2, palette=\"RdBu_r\", ax=ax2)\n",
    "ax2.set_ylabel(\"Probability\")\n",
    "ax2.set_xlabel(\"Counts\")\n",
    "ax2.set_title(\"Lambda = 15\")\n",
    "\n",
    "\n"
   ]
  },
  {
   "cell_type": "markdown",
   "metadata": {},
   "source": [
    "So the Poisson distribution is a good thing to keep in mind for count data, but how can we use it? Well the general idea (and this is where we're headed) is that the number of points Jameis Winston gets every week is a random draw from some unknown Poisson distribution with some unknown $\\lambda$. Once we know about $\\lambda$, we have a decent model (the Poisson distribution) of how many points Winston typically gets. For example, Winston typically scores at least 12 points. Looking at the examples above, the Poisson distribution with $\\lambda=2$ has *very little* probabilty of producing a count of 12. In constrast, the Poisson distribution with $\\lambda = 15$ has a pretty good chance of producing a count of 12. So we qualitatively say that $\\lambda$ is probably closer to 15 than it is to 2, for Jameis Winston. \n",
    "\n",
    "Our goal is estimate the best possible $\\lambda$ (or even better, our full uncertainty/confidence about $\\lambda$) so that we can quantify predictions about future games. This is called statistical inference. In fact, we'd also like to come up with a way to continually add new information from subsequent weeks to update our beliefs. This is called Bayesian inference. "
   ]
  },
  {
   "cell_type": "markdown",
   "metadata": {},
   "source": [
    "**Which Side Are You On?**\n",
    "\n",
    "Let's restate some of our goals using some mathematical notation. Remember, we want to estimate this parameter $\\lambda$ for Jameis Winston, so that we can quantify the full probability distribution over how many points he'll likely get. We've made some observations about his previous performance. We'll refer to these data points as $y$, so week 1 he scored $y_1$ points, week 2 he scored $y_2$ points, and full collection of data we will call $y_N$.\n",
    "\n",
    "The question is, given that we observed $y_N$, what values of $\\lambda$ are likely to have been the case to have generated those $y_N$. Because once we understand $\\lambda$, we can make good predictions about the next game $y_{N+1}$.\n",
    "\n",
    "Our goal then is to figure out this distribution: $p(\\lambda | y_N)$ . This is the probability distribution over all possible values of $\\lambda$, given what we know about the data. This may start to seem a little weird because we're treating $\\lambda$ as a random variable, and this is the philosophical point of departure between Bayesian and Frequentist statistics. So let's dive into that distinction a little more.\n",
    "\n",
    "To a Frequentist, the value of the parameter $\\lambda$ for Jameis Winston is a fixed feature of the world. And the reason we have uncertainty about it, is because of the randomness of the Poisson distribution and the fact that we only have a few observations so far. This premise is what we undertook with our generative Monte Carlo methods. In the Frequentist world, our uncertainty comes our finite sample size, and so we ask questions about the *sampling distribution*. Recall that the idea was to ask What is the set of possible things I would see if I repeated this experiment over and over. The Frequentist approach to this problem would ask, What is the set of possible $y_N$ I might have seen if $\\lambda$ was equal to some fixed number? And then, the trick is the find the $\\lambda$ that would produce the best match the data we *actually* saw. \n",
    "\n",
    "To a Bayesian, we might still think of $\\lambda$ as a fixed feature of the world, but we're going to confront our uncertainty about it and model that with probability, thus *pretending* that $\\lambda$ too is a random variabile just like $y_N$. In the Bayesian world, we don't care about the question What might I see if I repeat this experiment over and over. We don't get to repeat the experiment, we simply have some fixed data and now we ask what possible values of $\\lambda$ could have produced that data. In the Bayesian view, we address uncertainty about the world by treating it as probability of over possible truths. \n",
    "\n",
    "[Insert graphic]\n",
    "\n",
    "Given this differing point of departure, Bayesian inference has some new features that we'll need to get familiar with.\n"
   ]
  },
  {
   "cell_type": "markdown",
   "metadata": {},
   "source": [
    "** Before And After: Bayes Rule **\n",
    "    \n",
    "Now let's return to our fantasy football problem, and let's make our questions as simple as possible. Imagine that it is the beginning of Week 2 and we want to quantify our uncertainty about Winston's upcoming performance. We only have one observation to speak of, and that's that he got us 13 points in Week 1. We know that something around 13 is a good guess for week 2, but by now we've learned a few things to keep in mind. We know that a Poisson distribution would be a good model. And we know that we want to have a good understanding of the $\\lambda$ for that Poisson distribution. \n",
    "\n",
    "We want to quantify this: $p(\\lambda | y_1)$. In the world of Bayesian inference, this probability distribution is called the *posterior distribution*. It captures our uncertainty about $\\lambda$ given what we saw in week 1, $y_1$. And there's a simple expression called Bayes' rule that tells us how to find it:\n",
    "\n",
    "$p(\\lambda | y_1) = \\frac{p(y_1 | \\lambda) p(\\lambda)}{p(y_1)} $\n",
    "\n",
    "Bayes' rule has four parts. \n",
    "\n",
    "*The posterior* : $p(\\lambda | y_1)$\n",
    "\n",
    "*The likelihood* : $p(y_1 | \\lambda)$\n",
    "\n",
    "*The prior* : $p(\\lambda)$\n",
    "\n",
    "*The marginal* : $p(y_1)$\n",
    "\n",
    "The marginal we can ignore because it is unrelated to $\\lambda$, so pretend you never saw it. Most commonly, you'll see Bayes rule written like this $p(\\lambda | y) \\propto p(y| \\lambda)p(\\lambda)$. The posterior is the thing we want. The likehood is something we've seen before and thought about before, though maybe didn't call it out directly. It is the generative process underlying the data. It is the probability of observing $y$ given a particular vlaue of $\\lambda$. Recall the example above where the different Poisson distribution with different values of $\\lambda$ were more and less likely to have produced a count of 12. That's the likelihood, and in this case we know the likelihood is just the Poisson probability, so $p(y|\\lambda) = \\frac{\\lambda ^y}{y!} e^{- \\lambda}$.\n",
    "\n",
    "The final piece of Bayes rule, and the most unfamiliar, is the prior, $p(\\lambda)$. This is a probability distribution over the values that $\\lambda$ likely is, *before* we gathered any observations. Since it comes *before* the data, or independently of the data, it is called the *prior*. We can use this distribution to quantify our prior beliefs about $\\lambda$ before the season starts. For example, before the season starts, we can guess that $\\lambda$ probably isn't very close to say 50, because that would corresond to a player that get like 50 points per week, and no one does that. And we might have some hunch that $\\lambda$ could be 0, because players get injured all the time and have to sit out for a season. So the prior, $p(\\lambda)$, is any distribution we want to use to quantify our prior beliefs, intution, and hunches. \n",
    "\n",
    "And this is a big sticking point in the Bayes-vs-Frequentist question. The very fact that I used the word \"hunch\" probably seems unscientific; hunches shouldn't affect our analyses and conclusions. This is a good point, but one I don't want to belabor. In the next section, we'll discuss choosing priors carefully. But if we don't want to inject too much prior bias into our analysis, then we can set the prior to be very \"uninformative\". But in Bayesian inference, we at least have this choice of including side information when we trust it. \n",
    "\n",
    "So back to our problem. Bayes rule tell us $p(\\lambda | y_1) \\propto p(y_1 | \\lambda) p(\\lambda)$. In the next section, we'll talk about choosing $p(\\lambda)$ and getting a nice expression for the posterior, but at this point let's just think about what Bayes' rule is telling us. Our guess about something out in the world ( the $\\lambda$) should be a combination of something we observed (the likelihood $p(y_1|\\lambda)$) and the stuff we thought we knew before (the prior $p(\\lambda)$). But notice that we can use this general premise and pattern repeatedly. On Week 2, we can use the data from Week 1 to update our prior and result in a posterior for $\\lambda$. But then on Week 3, we can use our previous posterior as our new prior, and combine that with data from Week 2, to arrive at an updated prior. So in this way, Bayes' rule is all about updating our previous beliefs with all the information available to us at the time. \n",
    "\n",
    "\n"
   ]
  },
  {
   "cell_type": "markdown",
   "metadata": {
    "collapsed": true
   },
   "source": [
    "** Conjugate Priors **\n",
    "\n",
    "At this point, we've met the typical cast of characters in Bayesian models: the posterior, the likelihood, and the prior. From Bayes' rule, we know we that we can simply multiply the likelihood and the prior to get at the posterior. To be a little more explicit, suppose I want to know the posterior probability that $\\lambda=2$, given the number of points from Week 1. Well, we know that \n",
    "\n",
    "$p(\\lambda=2 | y_1) \\propto p(y_1 | \\lambda =2) p(\\lambda=2)$.\n",
    "\n",
    "So we can come up with some prior probability for $p(\\lambda=2)$ and we could be on our way, no matter what the prior is. But recall that the goal of Bayesian analysis is to have a full underrstanding the posterior, $p(\\lambda|y_1)$. That is, we're typically not interested in just the value $\\lambda=2$, but want a quantification of all possible values of $\\lambda$. So instead of a posterior probability at a single value of $\\lambda$, we would like to have a nice, simple expression for the entire probability distribution over $\\lambda$. Well, if we choose the form of the prior carefully, then it will combine with the likelihood in a useful way, such that the full posterior distribution has a simple form. This endeavor is called choosing a *conjugate prior*.\n",
    "\n",
    "We know that we have a Poisson likelihood: $p(y | \\lambda) = \\frac{\\lambda ^y}{y!} e^{- \\lambda}$. So how can we figure out what the conjugate prior is for a Poisson likelihood? Well, long story short, consult this super useful wikipedia table (https://en.wikipedia.org/wiki/Conjugate_prior), and we find that the conjugate prior is the Gamma distribution. Let's walk through why this is and what it means.\n",
    "\n",
    "Back to applying Bayes' rule,\n",
    "\n",
    "$p(\\lambda | y) \\propto p(y|\\lambda)p(\\lambda)$\n",
    "\n",
    "We fill in the likelihood and the prior,\n",
    "$p(\\lambda | y) \\propto \\frac{\\lambda ^y}{y!} e^{- \\lambda} \\frac{\\theta^{\\alpha - 1} e^{\\theta / \\beta}}{\\beta^\\theta \\Gamma(\\theta)} $.\n",
    "\n",
    "Things are getting a little messy looking, but we have some terms that are normalization constants, so we can ignore those by sweeping them into the proportionality,\n",
    "\n",
    "$p(\\lambda | y) \\propto \\frac{\\lambda ^y}{y!} e^{- \\lambda} \\frac{\\lambda^{\\alpha - 1} e^{\\lambda / \\beta}}{\\beta^\\lambda \\Gamma(\\lambda)} $"
   ]
  },
  {
   "cell_type": "markdown",
   "metadata": {},
   "source": [
    "[posterior predictive distribution with posterior samples and then Monte Carlo draws]"
   ]
  },
  {
   "cell_type": "code",
   "execution_count": null,
   "metadata": {
    "collapsed": true
   },
   "outputs": [],
   "source": []
  }
 ],
 "metadata": {
  "kernelspec": {
   "display_name": "Python 2",
   "language": "python",
   "name": "python2"
  },
  "language_info": {
   "codemirror_mode": {
    "name": "ipython",
    "version": 2
   },
   "file_extension": ".py",
   "mimetype": "text/x-python",
   "name": "python",
   "nbconvert_exporter": "python",
   "pygments_lexer": "ipython2",
   "version": "2.7.3"
  }
 },
 "nbformat": 4,
 "nbformat_minor": 0
}
