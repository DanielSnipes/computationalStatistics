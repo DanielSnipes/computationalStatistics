{
 "cells": [
  {
   "cell_type": "markdown",
   "metadata": {},
   "source": [
    "This section will describe bootstrap methods for parameters inference. Should have a few examples of increasing complexity.\n",
    "- Simple parameter inference bootstrap\n",
    "- Simple hypothesis test\n",
    "- More detailed Regression example\n",
    "- block bootstrap and other time series methods"
   ]
  },
  {
   "cell_type": "markdown",
   "metadata": {
    "collapsed": true
   },
   "source": [
    "**Introduction** \n",
    "\n",
    "In the last section, we had our first encounter with notion of a *sampling distribution*. This is a pillar of frequentist inference and it allows us to ask the question What other outcomes might I have seen if I had repeated this experiment? A common approach is to rely on assumptions about the underlying data and then turn to some useful analytical expressions for the sampling distribution. Such an approach has been the bedrock of statistics from 1890s to the 1980s. These approaches, which are likely familiar to you, begin with assumptions about the data-generating process (drawn from Normal theory) and result in common methods such as ANOVA, t-tests, regression and others. When the data-generating process is non-Normal, then we need to turn to alternative methods. We previously described how we can use Monte Carlo methods to directly simulate the data-generating process and collect the outcomes of a large number of different experiments. We thus simulate any sampling distribution of interest, no matter what process has generated the data. All we have to do is be able to simulate new data. \n",
    "\n",
    "On some occasions, however, we might not have any clue about the data-generating process. We don't know if the data are Normally dsitributed, we don't know anything about it, so we can't rely on classical theory. And we can't rely on Monte Carlo methods, since we can't just directly simulate repeated experiments. But we want to estimate a sampling distribution, even though we assume nothing about the data. This seemingly impossible ask is the purview of Bootstrap Resampling. "
   ]
  },
  {
   "cell_type": "markdown",
   "metadata": {},
   "source": [
    "**The Bootstrap**\n",
    "\n",
    "The goal of bootstrapping is to simulate repeated experimentation simply by *resampling* the data in a particular way. It may be hard to believe, but we can resample the observed data in order to generate a *synthetic* dataset. This synthetic dataset is meant to mimic the process of repeating an experiment, so we can treat the synthetic dataset as if it were a new set of observations from another experiment. We can compute whatever summary we want (test statistic) from the synthetic dataset and then save that for later. We then go back to the original data again and generate a new synthetic dataset. And so on. After some thousands of iterations of this process, we will gather thousands of different values of the test statistic. These are samples from the true sampling distribution of the test statistic. And that's it. We didn't assume anything about the data, we just used random sampling, and magically we get an approximation of the sampling distribution. The only thing we need to think about is making sure that we generate synthetic data sets using a process called *sampling with replacement*.\n"
   ]
  },
  {
   "cell_type": "markdown",
   "metadata": {},
   "source": [
    "**Sample With Replacement**\n",
    "\n",
    "The primary driver of bootstrapping is a resampling procedure called sampling with replacement. The idea is that we draw random samples from our data set one at a time, we jot down which one we drew, and then put that one back in the collection so that it could possibly be drawn again. Let's focus on the sample-with-replacement idea with some toy problems. Imagine we have this collection of fruits:"
   ]
  },
  {
   "cell_type": "code",
   "execution_count": 2,
   "metadata": {
    "collapsed": true
   },
   "outputs": [],
   "source": [
    "fruits = [\"banana\",\"apple\",\"grape\",\"pineapple\",\"orange\"]"
   ]
  },
  {
   "cell_type": "code",
   "execution_count": 9,
   "metadata": {
    "collapsed": false
   },
   "outputs": [],
   "source": [
    "# this function allows us to draw random samples from a collection\n",
    "from numpy.random import choice"
   ]
  },
  {
   "cell_type": "code",
   "execution_count": 8,
   "metadata": {
    "collapsed": false
   },
   "outputs": [
    {
     "name": "stdout",
     "output_type": "stream",
     "text": [
      "pineapple\n",
      "orange\n",
      "grape\n"
     ]
    }
   ],
   "source": [
    "print choice(fruits)\n",
    "print choice(fruits)\n",
    "print choice(fruits)"
   ]
  },
  {
   "cell_type": "markdown",
   "metadata": {},
   "source": [
    "When we want to sample with replacement, we simply need to draw a single element, and then make sure we put it back, so that we have the original collection back again where it started. Well this would be equivalent to making successive independent draws from the collection, like we just did above. And we use this process to generate a new collection of the exact same size as the original."
   ]
  },
  {
   "cell_type": "code",
   "execution_count": 11,
   "metadata": {
    "collapsed": false
   },
   "outputs": [
    {
     "name": "stdout",
     "output_type": "stream",
     "text": [
      "['banana', 'pineapple', 'pineapple', 'orange', 'pineapple']\n"
     ]
    }
   ],
   "source": [
    "synthetic_dataset = [choice(fruits) for i in range(len(fruits))]\n",
    "print synthetic_dataset"
   ]
  },
  {
   "cell_type": "markdown",
   "metadata": {},
   "source": [
    "Notice that because of the randomness of this process, the synthetic dataset will likely be different than the original one. And also notice that it is probably that some of the datapoints occur multiple times in the synthetic set. So let's wrap this logic up for later use."
   ]
  },
  {
   "cell_type": "code",
   "execution_count": 5,
   "metadata": {
    "collapsed": true
   },
   "outputs": [],
   "source": [
    "def sample_with_replacement(someCollection):\n",
    "    synthetic_dataset = [choice(someCollection) for i in range(len(someCollection))]\n",
    "    return synthetic_dataset"
   ]
  },
  {
   "cell_type": "code",
   "execution_count": 13,
   "metadata": {
    "collapsed": false
   },
   "outputs": [
    {
     "data": {
      "text/plain": [
       "[1, 7, 3, 5, 0, 4, 1, 7]"
      ]
     },
     "execution_count": 13,
     "metadata": {},
     "output_type": "execute_result"
    }
   ],
   "source": [
    "sample_with_replacement(range(8))"
   ]
  },
  {
   "cell_type": "markdown",
   "metadata": {},
   "source": [
    "And that's most everything we need for the bootstrap. We simply need to repeat this process many times, and for each synthetic dataset, we compute the test statistic we're interested in. Let's make a general function that will allow us to do that. \n",
    "\n",
    "As arguments, our function will take our dataset as well as the number of iterations (bootstrap samples) that we're interested in. And third, the function will take in another function, which can be any user-defined function for computing the test statistic from a dataset."
   ]
  },
  {
   "cell_type": "code",
   "execution_count": 6,
   "metadata": {
    "collapsed": true
   },
   "outputs": [],
   "source": [
    "def bootstrap(data,iterations,f):\n",
    "    sampling_distribution = []\n",
    "    for i in range(iterations):\n",
    "        sampling_distribution.append(f(sample_with_replacement(data)))\n",
    "    return sampling_distribution"
   ]
  },
  {
   "cell_type": "markdown",
   "metadata": {},
   "source": [
    "For our first numerical example, let's say we're interested in the sample mean as our test statistic. We simply need to provide our function *bootstrap* with a function for calculating the mean of a collection."
   ]
  },
  {
   "cell_type": "code",
   "execution_count": 7,
   "metadata": {
    "collapsed": true
   },
   "outputs": [],
   "source": [
    "from numpy import mean"
   ]
  },
  {
   "cell_type": "markdown",
   "metadata": {},
   "source": [
    "Let's try this out. First we have our \"real\" data that we measured out on the real world."
   ]
  },
  {
   "cell_type": "code",
   "execution_count": 2,
   "metadata": {
    "collapsed": true
   },
   "outputs": [],
   "source": [
    "realData = range(50)"
   ]
  },
  {
   "cell_type": "markdown",
   "metadata": {},
   "source": [
    "This data sample has an easy-to-calculate mean."
   ]
  },
  {
   "cell_type": "code",
   "execution_count": 3,
   "metadata": {
    "collapsed": false
   },
   "outputs": [
    {
     "data": {
      "text/plain": [
       "24.5"
      ]
     },
     "execution_count": 3,
     "metadata": {},
     "output_type": "execute_result"
    }
   ],
   "source": [
    "mean(realData)"
   ]
  },
  {
   "cell_type": "markdown",
   "metadata": {},
   "source": [
    "But if we collected this data again, how different might the sample mean turn out to be? To answer this question, we gather 1000 bootstrap samples from the sampling distribution of the mean of our dataset."
   ]
  },
  {
   "cell_type": "code",
   "execution_count": 10,
   "metadata": {
    "collapsed": false
   },
   "outputs": [],
   "source": [
    "samples = bootstrap(realData,1000,mean)"
   ]
  },
  {
   "cell_type": "code",
   "execution_count": 12,
   "metadata": {
    "collapsed": true
   },
   "outputs": [],
   "source": [
    "#(Import some plotting library for visualization.)\n",
    "import seaborn as sns\n",
    "%matplotlib inline"
   ]
  },
  {
   "cell_type": "markdown",
   "metadata": {},
   "source": [
    "Now let's take a look at that sampling distribution by just plotting the histogram of those samples."
   ]
  },
  {
   "cell_type": "code",
   "execution_count": 14,
   "metadata": {
    "collapsed": false
   },
   "outputs": [
    {
     "data": {
      "text/plain": [
       "<matplotlib.axes.AxesSubplot at 0xc505ef0>"
      ]
     },
     "execution_count": 14,
     "metadata": {},
     "output_type": "execute_result"
    },
    {
     "data": {
      "image/png": "[encoded data removed]",
      "text/plain": [
       "<matplotlib.figure.Figure at 0xc561a10>"
      ]
     },
     "metadata": {},
     "output_type": "display_data"
    }
   ],
   "source": [
    "sns.distplot(samples, kde=False)"
   ]
  },
  {
   "cell_type": "markdown",
   "metadata": {
    "collapsed": true
   },
   "source": [
    "We see that the mean of this sampling distribution is right around the sample mean and the width of typical sample means is plus or minus 5 from our observed sample mean. We just estimated the sampling distribution by making nearly no assumptions about the data."
   ]
  },
  {
   "cell_type": "markdown",
   "metadata": {},
   "source": [
    "**Just To Prove It Works **\n",
    "\n",
    "To prove to ourselves that this magic isn't nonsense, let's tackle a problem where we can readily verify the \"right\" answers. We're going to stick to a problem that's well within the bounds of classical statistics and Normal theory.\n",
    "\n",
    "Let's say we go out in the world and measure the heights of 30 people. "
   ]
  },
  {
   "cell_type": "code",
   "execution_count": 15,
   "metadata": {
    "collapsed": true
   },
   "outputs": [],
   "source": [
    "from numpy.random import normal"
   ]
  },
  {
   "cell_type": "markdown",
   "metadata": {},
   "source": [
    "We imagine that the distributions of people's heights is a Gaussian distribution centered at 68 inches with a standard deviation of 10 inches. "
   ]
  },
  {
   "cell_type": "code",
   "execution_count": 18,
   "metadata": {
    "collapsed": false
   },
   "outputs": [
    {
     "data": {
      "text/plain": [
       "array([ 69.67149046,  75.46562686,  62.71016008,  63.10761461,\n",
       "        64.09662955,  68.19883183,  73.23002096,  66.25131872,\n",
       "        63.52854703,  69.05197457,  42.87229352,  71.61725366,\n",
       "        71.64098112,  66.28831242,  75.93084248,  65.81322706,\n",
       "        58.53314756,  88.12029473,  63.90570779,  60.43119709,\n",
       "        64.07303125,  48.60319164,  62.91979952,  70.58391347,\n",
       "        75.43863462,  68.1451093 ,  70.25110338,  68.32508423,\n",
       "        75.08906035,  52.38072932])"
      ]
     },
     "execution_count": 18,
     "metadata": {},
     "output_type": "execute_result"
    }
   ],
   "source": [
    "heightsData = normal(loc=68,scale=10,size=30)\n",
    "heightsData"
   ]
  },
  {
   "cell_type": "markdown",
   "metadata": {},
   "source": [
    "This sample has a particular mean."
   ]
  },
  {
   "cell_type": "code",
   "execution_count": 20,
   "metadata": {
    "collapsed": false
   },
   "outputs": [
    {
     "data": {
      "text/plain": [
       "66.542504305860049"
      ]
     },
     "execution_count": 20,
     "metadata": {},
     "output_type": "execute_result"
    }
   ],
   "source": [
    "mean(heightsData)"
   ]
  },
  {
   "cell_type": "markdown",
   "metadata": {},
   "source": [
    "But how can get a handle on the sampling distribution of that mean? That is, we only measured 30 people which is a quite small sample. So how different might this have turned out if we measured 30 other people? To get a quantification of the sampling distribution of the mean, we have two potential approaches. One is that we can turn to Monte Carlo methods and resimulate the data generating process. Another is that we can rely on classical statistical theory. Let's try both."
   ]
  },
  {
   "cell_type": "code",
   "execution_count": 26,
   "metadata": {
    "collapsed": false
   },
   "outputs": [],
   "source": [
    "# monte carlo approach\n",
    "mcSampleMeans=[]\n",
    "for i in range(1000):\n",
    "    mcHeightsData = normal(loc=68,scale=10,size=30)\n",
    "    mcSampleMeans.append(mean(mcHeightsData))"
   ]
  },
  {
   "cell_type": "code",
   "execution_count": 29,
   "metadata": {
    "collapsed": false
   },
   "outputs": [
    {
     "data": {
      "text/plain": [
       "<matplotlib.axes.AxesSubplot at 0xc5a8990>"
      ]
     },
     "execution_count": 29,
     "metadata": {},
     "output_type": "execute_result"
    },
    {
     "data": {
      "image/png": "[encoded data removed]",
      "text/plain": [
       "<matplotlib.figure.Figure at 0xd169b10>"
      ]
     },
     "metadata": {},
     "output_type": "display_data"
    }
   ],
   "source": [
    "# hows it look\n",
    "sns.distplot(mcSampleMeans, kde=False)"
   ]
  },
  {
   "cell_type": "code",
   "execution_count": 21,
   "metadata": {
    "collapsed": true
   },
   "outputs": [],
   "source": [
    "from numpy import var"
   ]
  },
  {
   "cell_type": "markdown",
   "metadata": {},
   "source": [
    "From Normal theory, the sampling distribution should be a Gaussian distribution centered at the sample mean. And the width of this Gaussian distribution is given by, "
   ]
  },
  {
   "cell_type": "markdown",
   "metadata": {},
   "source": [
    "$\n",
    "\\sigma_M^2 = \\frac{\\sigma^2}{N}\n",
    "$"
   ]
  },
  {
   "cell_type": "markdown",
   "metadata": {},
   "source": [
    "That is, it's the standard deviation of the true population ($\\sigma^2$), divided by the sample size. In our case,"
   ]
  },
  {
   "cell_type": "code",
   "execution_count": 34,
   "metadata": {
    "collapsed": false
   },
   "outputs": [
    {
     "data": {
      "text/plain": [
       "3"
      ]
     },
     "execution_count": 34,
     "metadata": {},
     "output_type": "execute_result"
    }
   ],
   "source": [
    "(10**2)/30"
   ]
  },
  {
   "cell_type": "markdown",
   "metadata": {},
   "source": [
    "Finally, let's try bootstrapping on this problem and see how the results compare."
   ]
  },
  {
   "cell_type": "code",
   "execution_count": 31,
   "metadata": {
    "collapsed": false
   },
   "outputs": [
    {
     "data": {
      "text/plain": [
       "<matplotlib.axes.AxesSubplot at 0xc7d00d0>"
      ]
     },
     "execution_count": 31,
     "metadata": {},
     "output_type": "execute_result"
    },
    {
     "data": {
      "image/png": "[encoded data removed]",
      "text/plain": [
       "<matplotlib.figure.Figure at 0xd1c6090>"
      ]
     },
     "metadata": {},
     "output_type": "display_data"
    }
   ],
   "source": [
    "bootSampleMeans = bootstrap(heightsData, 1000, mean)\n",
    "sns.distplot(bootSampleMeans)"
   ]
  },
  {
   "cell_type": "code",
   "execution_count": null,
   "metadata": {
    "collapsed": true
   },
   "outputs": [],
   "source": []
  }
 ],
 "metadata": {
  "kernelspec": {
   "display_name": "Python 2",
   "language": "python",
   "name": "python2"
  },
  "language_info": {
   "codemirror_mode": {
    "name": "ipython",
    "version": 2
   },
   "file_extension": ".py",
   "mimetype": "text/x-python",
   "name": "python",
   "nbconvert_exporter": "python",
   "pygments_lexer": "ipython2",
   "version": "2.7.3"
  }
 },
 "nbformat": 4,
 "nbformat_minor": 0
}
