{
 "cells": [
  {
   "cell_type": "markdown",
   "metadata": {},
   "source": [
    "This section will describe bootstrap methods for parameters inference. Should have a few examples of increasing complexity.\n",
    "- Simple parameter inference bootstrap\n",
    "- Simple hypothesis test\n",
    "- More detailed Regression example\n",
    "- block bootstrap and other time series methods"
   ]
  },
  {
   "cell_type": "markdown",
   "metadata": {
    "collapsed": true
   },
   "source": [
    "**Introduction** \n",
    "\n",
    "In the last section, we had our first encounter with notion of a *sampling distribution*. This is a pillar of frequentist inference and it allows us to ask the question What other outcomes might I have seen if I had repeated this experiment? A common approach is to rely on assumptions about the underlying data and then turn to some useful analytical expressions for the sampling distribution. Such an approach has been the bedrock of statistics from 1890s to the 1980s. These approaches, which are likely familiar to you, begin with assumptions about the data-generating process (drawn from Normal theory) and result in common methods such as ANOVA, t-tests, regression and others. When the data-generating process is non-Normal, then we need to turn to alternative methods. We previously described how we can use Monte Carlo methods to directly simulate the data-generating process and collect the outcomes of a large number of different experiments. We thus simulate any sampling distribution of interest, no matter what process has generated the data. All we have to do is be able to simulate new data. \n",
    "\n",
    "On some occasions, however, we might not have any clue about the data-generating process. We don't know if the data are Normally dsitributed, we don't know anything about it, so we can't rely on classical theory. And we can't rely on Monte Carlo methods, since we can't just directly simulate repeated experiments. But we want to estimate a sampling distribution, even though we assume nothing about the data. This seemingly impossible ask is the purview of Bootstrap Resampling. "
   ]
  },
  {
   "cell_type": "markdown",
   "metadata": {},
   "source": [
    "**The Bootstrap**\n",
    "\n",
    "The goal of bootstrapping is to simulate repeated experimentation simply by *resampling* the data in a particular way. It may be hard to believe, but we can resample the observed data in order to generate a *synthetic* dataset. This synthetic dataset is meant to mimic the process of repeating an experiment, so we can treat the synthetic dataset as if it were a new set of observations from another experiment. We can compute whatever summary we want (test statistic) from the synthetic dataset and then save that for later. We then go back to the original data again and generate a new synthetic dataset. And so on. After some thousands of iterations of this process, we will gather thousands of different values of the test statistic. These are samples from the true sampling distribution of the test statistic. And that's it. We didn't assume anything about the data, we just used random sampling, and magically we get an approximation of the sampling distribution. The only thing we need to think about is making sure that we generate synthetic data sets using a process called *sampling with replacement*.\n"
   ]
  },
  {
   "cell_type": "markdown",
   "metadata": {},
   "source": [
    "**Sample With Replacement**\n",
    "\n",
    "The primary driver of bootstrapping is a resampling procedure called sampling with replacement. The idea is that we draw random samples from our data set one at a time, we jot down which one we drew, and then put that one back in the collection so that it could possibly be drawn again. Let's focus on the sample-with-replacement idea with some toy problems. Imagine we have this collection of fruits:"
   ]
  },
  {
   "cell_type": "code",
   "execution_count": 2,
   "metadata": {
    "collapsed": true
   },
   "outputs": [],
   "source": [
    "fruits = [\"banana\",\"apple\",\"grape\",\"pineapple\",\"orange\"]"
   ]
  },
  {
   "cell_type": "code",
   "execution_count": 5,
   "metadata": {
    "collapsed": false
   },
   "outputs": [],
   "source": [
    "# this function allows us to draw random samples from a collection\n",
    "from numpy.random import choice"
   ]
  },
  {
   "cell_type": "code",
   "execution_count": 8,
   "metadata": {
    "collapsed": false
   },
   "outputs": [
    {
     "name": "stdout",
     "output_type": "stream",
     "text": [
      "pineapple\n",
      "orange\n",
      "grape\n"
     ]
    }
   ],
   "source": [
    "print choice(fruits)\n",
    "print choice(fruits)\n",
    "print choice(fruits)"
   ]
  },
  {
   "cell_type": "markdown",
   "metadata": {},
   "source": [
    "When we want to sample with replacement, we simply need to draw a single element, and then make sure we put it back, so that we have the original collection back again where it started. Well this would be equivalent to making successive independent draws from the collection, like we just did above. And we use this process to generate a new collection of the exact same size as the original."
   ]
  },
  {
   "cell_type": "code",
   "execution_count": 11,
   "metadata": {
    "collapsed": false
   },
   "outputs": [
    {
     "name": "stdout",
     "output_type": "stream",
     "text": [
      "['banana', 'pineapple', 'pineapple', 'orange', 'pineapple']\n"
     ]
    }
   ],
   "source": [
    "synthetic_dataset = [choice(fruits) for i in range(len(fruits))]\n",
    "print synthetic_dataset"
   ]
  },
  {
   "cell_type": "markdown",
   "metadata": {},
   "source": [
    "Notice that because of the randomness of this process, the synthetic dataset will likely be different than the original one. And also notice that it is probably that some of the datapoints occur multiple times in the synthetic set. So let's wrap this logic up for later use."
   ]
  },
  {
   "cell_type": "code",
   "execution_count": 12,
   "metadata": {
    "collapsed": true
   },
   "outputs": [],
   "source": [
    "def sample_with_replacement(someCollection):\n",
    "    synthetic_dataset = [choice(someCollection) for i in range(len(someCollection))]\n",
    "    return synthetic_dataset"
   ]
  },
  {
   "cell_type": "code",
   "execution_count": 13,
   "metadata": {
    "collapsed": false
   },
   "outputs": [
    {
     "data": {
      "text/plain": [
       "[1, 7, 3, 5, 0, 4, 1, 7]"
      ]
     },
     "execution_count": 13,
     "metadata": {},
     "output_type": "execute_result"
    }
   ],
   "source": [
    "sample_with_replacement(range(8))"
   ]
  },
  {
   "cell_type": "markdown",
   "metadata": {},
   "source": [
    "And that's most everything we need for the bootstrap. We simply need to repeat this process many times, and for each synthetic dataset, we compute the test statistic we're interested in. Let's make a general function that will allow us to do that. \n",
    "\n",
    "As arguments, our function will take our dataset as well as the number of iterations (bootstrap samples) that we're interested in. And third, the function will take in another function, which can be any user-defined function for computing the test statistic from a dataset."
   ]
  },
  {
   "cell_type": "code",
   "execution_count": 21,
   "metadata": {
    "collapsed": true
   },
   "outputs": [],
   "source": [
    "def bootstrap(data,iterations,f):\n",
    "    sampling_distribution = []\n",
    "    for i in range(iterations):\n",
    "        sampling_distribution.append(f(sample_with_replacement(data)))\n",
    "    return sampling_distribution"
   ]
  },
  {
   "cell_type": "markdown",
   "metadata": {},
   "source": [
    "As an example, let's say we're interested in the sample mean as our test statistic. We simply need to provide our function *bootstrap* with a function for calculating the mean of a collection."
   ]
  },
  {
   "cell_type": "code",
   "execution_count": 22,
   "metadata": {
    "collapsed": true
   },
   "outputs": [],
   "source": [
    "from numpy import mean"
   ]
  },
  {
   "cell_type": "markdown",
   "metadata": {},
   "source": [
    "Let's try this out and gather 1000 bootstrap sampling from the sampling distribution of the mean of a fake dataset."
   ]
  },
  {
   "cell_type": "code",
   "execution_count": 23,
   "metadata": {
    "collapsed": false
   },
   "outputs": [],
   "source": [
    "samples = bootstrap(range(50),1000,mean)"
   ]
  },
  {
   "cell_type": "markdown",
   "metadata": {},
   "source": [
    "(Import some plotting libraries for visualization.)"
   ]
  },
  {
   "cell_type": "code",
   "execution_count": 25,
   "metadata": {
    "collapsed": true
   },
   "outputs": [],
   "source": [
    "import seaborn as sns\n",
    "%matplotlib inline"
   ]
  },
  {
   "cell_type": "code",
   "execution_count": 26,
   "metadata": {
    "collapsed": false
   },
   "outputs": [
    {
     "data": {
      "text/plain": [
       "<matplotlib.axes.AxesSubplot at 0xc4c2c30>"
      ]
     },
     "execution_count": 26,
     "metadata": {},
     "output_type": "execute_result"
    },
    {
     "data": {
      "image/png": "[encoded data removed]",
      "text/plain": [
       "<matplotlib.figure.Figure at 0xc4c2a70>"
      ]
     },
     "metadata": {},
     "output_type": "display_data"
    }
   ],
   "source": [
    "sns.distplot(samples)"
   ]
  },
  {
   "cell_type": "code",
   "execution_count": null,
   "metadata": {
    "collapsed": true
   },
   "outputs": [],
   "source": []
  }
 ],
 "metadata": {
  "kernelspec": {
   "display_name": "Python 2",
   "language": "python",
   "name": "python2"
  },
  "language_info": {
   "codemirror_mode": {
    "name": "ipython",
    "version": 2
   },
   "file_extension": ".py",
   "mimetype": "text/x-python",
   "name": "python",
   "nbconvert_exporter": "python",
   "pygments_lexer": "ipython2",
   "version": "2.7.3"
  }
 },
 "nbformat": 4,
 "nbformat_minor": 0
}
