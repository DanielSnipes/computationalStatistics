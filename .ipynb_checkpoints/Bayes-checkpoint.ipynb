{
 "cells": [
  {
   "cell_type": "code",
   "execution_count": 14,
   "metadata": {
    "collapsed": true
   },
   "outputs": [],
   "source": [
    "from collections import Counter\n",
    "import numpy.random as r\n",
    "import seaborn as sns\n",
    "import numpy as np\n",
    "from __future__ import division\n",
    "%matplotlib inline\n",
    "from scipy import stats"
   ]
  },
  {
   "cell_type": "markdown",
   "metadata": {
    "collapsed": true
   },
   "source": [
    "This section will be an introduction to the principles of Bayesian inference. Will cover Bayesian goals and terminology. Will introduce posterior inference via conjugate priors with a couple simple examples. Will stop short of MCMC methods. "
   ]
  },
  {
   "cell_type": "markdown",
   "metadata": {
    "collapsed": true
   },
   "source": [
    "*Notes:*\n",
    "- Could probably get some good use out of something like fantasy football point-per-player-per-game data. Could do conjugate priors, poisson-gamma distribution, unsupervised clustering..."
   ]
  },
  {
   "cell_type": "markdown",
   "metadata": {
    "collapsed": true
   },
   "source": [
    "** A Trite Example **\n",
    "\n",
    "Let's talk Fantasy Football. Apologies if you hate sports, but some of the following metaphors and example problems will get us pretty far, so please bear with me."
   ]
  },
  {
   "cell_type": "markdown",
   "metadata": {},
   "source": [
    "On a Fantasy Football team, each of my players scores points (in accordance with rules for their position) for the game they play in real life each week. As an example let's look at quarterback Jameis Winston. After several weeks into the season, here's the points he got me:"
   ]
  },
  {
   "cell_type": "code",
   "execution_count": 1,
   "metadata": {
    "collapsed": true
   },
   "outputs": [],
   "source": [
    "Jameis_Winston = {\"Week 1\": 13, \"Week 2\": 18, \"Week 3\": 12, \"Week 4\": 12, \"Week 5\": 14, \"Week 6\": 0}"
   ]
  },
  {
   "cell_type": "markdown",
   "metadata": {},
   "source": [
    "So we see that several weeks into the season, Winston seems like a pretty reliable source of about a dozen or so points. Sometimes he scores more (like when he got 18) and sometimes he scores less (like when he was on a BYE in Week 6 and got 0, but I didn't notice because I'm terrible at Fantasy Football). Our goal might be to *predict* how many points Winston will get in the next game. Or at least to have a compact quantification of how he's likely to do. He probably won't get 0 again, and he probably won't get 50, so how might we quantify all this? "
   ]
  },
  {
   "cell_type": "markdown",
   "metadata": {},
   "source": [
    "Since we've seen a few weeks of data, surely we can say something about this problem right? We're doing better than nothing. In the past we seen him acheive scores of 13, 18, 12, and 14, so a good starting point is to guess that those are somewhat likely in the future. What about 11 points? We've never seen that in the past, so does that have exactly zero chance of happening in the future? "
   ]
  },
  {
   "cell_type": "markdown",
   "metadata": {},
   "source": [
    "A good place to start is to devise a *generative model* of his scoring - to come up with a *probability distribution* that captures the variability in a reasonable way. We've talked about Binomial distributions and Normal distributions, but those aren't quite right here because of how they're defined and how the rules of my league go. In my leaguge, a player can only get an integer number of points. So it's certainly not a coin-flip process, but it's not really a drawn from a Normal distribution either. \n",
    "\n",
    "The distribution we're looking for is called the Poisson distribution. This distribution is defined only on the integers and is typically used to model count-data. For example, how many traffic tickets will I get this year? How many times will you sneeze tomorrow? How many points with Jameis Winston get this week? These are all count-data that can take on only whole-number values, and are appropriate for the Poisson distribution."
   ]
  },
  {
   "cell_type": "markdown",
   "metadata": {},
   "source": [
    "$p(k|\\lambda) = \\frac{\\lambda ^k}{k!} e^{- \\lambda}$"
   ]
  },
  {
   "cell_type": "code",
   "execution_count": 52,
   "metadata": {
    "collapsed": false
   },
   "outputs": [
    {
     "data": {
      "text/plain": [
       "<matplotlib.text.Text at 0xfe7e030>"
      ]
     },
     "execution_count": 52,
     "metadata": {},
     "output_type": "execute_result"
    },
    {
     "data": {
      "image/png": "[encoded data removed]",
      "text/plain": [
       "<matplotlib.figure.Figure at 0xfe325b0>"
      ]
     },
     "metadata": {},
     "output_type": "display_data"
    }
   ],
   "source": [
    "import matplotlib.pyplot as plt\n",
    "sns.set(style=\"white\", context=\"talk\")\n",
    "rs = np.random.RandomState(7)\n",
    "\n",
    "\n",
    "# Set up the matplotlib figure\n",
    "f, (ax1, ax2) = plt.subplots(2, 1, figsize=(8, 4), sharex=True)\n",
    "\n",
    "# Generate some sequential data\n",
    "x = np.array(range(25))\n",
    "poiss_1 = stats.poisson(2)\n",
    "y1 = poiss_1.pmf(x)\n",
    "sns.barplot(x, y1, palette=\"BuGn_d\", ax=ax1)\n",
    "ax1.set_ylabel(\"Probability\")\n",
    "ax1.set_title(\"Lambda = 2\")\n",
    "\n",
    "# Center the data to make it diverging\n",
    "poiss_2 = stats.poisson(15)\n",
    "y2 = poiss_2.pmf(x)\n",
    "sns.barplot(x, y2, palette=\"RdBu_r\", ax=ax2)\n",
    "ax2.set_ylabel(\"Probability\")\n",
    "ax2.set_title(\"Lambda = 15\")\n",
    "\n",
    "\n"
   ]
  },
  {
   "cell_type": "markdown",
   "metadata": {},
   "source": [
    "** Before And After: Bayes Rule **"
   ]
  }
 ],
 "metadata": {
  "kernelspec": {
   "display_name": "Python 2",
   "language": "python",
   "name": "python2"
  },
  "language_info": {
   "codemirror_mode": {
    "name": "ipython",
    "version": 2
   },
   "file_extension": ".py",
   "mimetype": "text/x-python",
   "name": "python",
   "nbconvert_exporter": "python",
   "pygments_lexer": "ipython2",
   "version": "2.7.3"
  }
 },
 "nbformat": 4,
 "nbformat_minor": 0
}
